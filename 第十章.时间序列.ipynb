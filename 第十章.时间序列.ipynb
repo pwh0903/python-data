{
 "cells": [
  {
   "cell_type": "markdown",
   "metadata": {},
   "source": [
    "## 时间序列数据的意义取决于具体的应用场景\n",
    "1. 时间戳(timestamp),特定的时刻\n",
    "2. 固定时期(period),如2008年1月或2016全年\n",
    "3. 时间间隔(interval),由起始和结束时间戳表示,period可以被看做interval的特例\n",
    "4. 实验或过程时间,每个时间点都是相对于特定起始时间的一个度量.如从放入烤箱起,每秒钟饼干的直径"
   ]
  },
  {
   "cell_type": "markdown",
   "metadata": {},
   "source": [
    "# 日期和时间数据类型及工具\n",
    "* python标准库:date/time/datetime/calendar"
   ]
  },
  {
   "cell_type": "code",
   "execution_count": 40,
   "metadata": {
    "collapsed": false
   },
   "outputs": [
    {
     "name": "stdout",
     "output_type": "stream",
     "text": [
      "Populating the interactive namespace from numpy and matplotlib\n"
     ]
    },
    {
     "name": "stderr",
     "output_type": "stream",
     "text": [
      "WARNING: pylab import has clobbered these variables: ['datetime']\n",
      "`%matplotlib` prevents importing * from pylab and numpy\n"
     ]
    }
   ],
   "source": [
    "%pylab inline\n",
    "from datetime import datetime\n",
    "from pandas import Series, DataFrame\n",
    "import pandas as pd"
   ]
  },
  {
   "cell_type": "code",
   "execution_count": 36,
   "metadata": {
    "collapsed": false
   },
   "outputs": [
    {
     "data": {
      "text/plain": [
       "datetime.datetime(2016, 9, 5, 15, 10, 49, 274000)"
      ]
     },
     "execution_count": 36,
     "metadata": {},
     "output_type": "execute_result"
    }
   ],
   "source": [
    "now = datetime.now()\n",
    "now"
   ]
  },
  {
   "cell_type": "code",
   "execution_count": 37,
   "metadata": {
    "collapsed": false
   },
   "outputs": [
    {
     "data": {
      "text/plain": [
       "(2016, 9, 5)"
      ]
     },
     "execution_count": 37,
     "metadata": {},
     "output_type": "execute_result"
    }
   ],
   "source": [
    "now.year, now.month, now.day"
   ]
  },
  {
   "cell_type": "code",
   "execution_count": 38,
   "metadata": {
    "collapsed": false
   },
   "outputs": [
    {
     "data": {
      "text/plain": [
       "datetime.timedelta(29, 49020)"
      ]
     },
     "execution_count": 38,
     "metadata": {},
     "output_type": "execute_result"
    }
   ],
   "source": [
    "# datetime以毫秒形式存储日期和时间,datetime.timedelta表示两个时间datetime对象之间的时间差\n",
    "delta = datetime(2011,9,2) - datetime(2011,8,3,10,23)\n",
    "delta"
   ]
  },
  {
   "cell_type": "code",
   "execution_count": 39,
   "metadata": {
    "collapsed": false
   },
   "outputs": [
    {
     "data": {
      "text/plain": [
       "(29, 49020)"
      ]
     },
     "execution_count": 39,
     "metadata": {},
     "output_type": "execute_result"
    }
   ],
   "source": [
    "# 天,秒\n",
    "delta.days, delta.seconds"
   ]
  },
  {
   "cell_type": "code",
   "execution_count": 12,
   "metadata": {
    "collapsed": true
   },
   "outputs": [],
   "source": [
    "# 可以给datetime对象加上/减去一个或多个timedelta,会产生一个新对象\n",
    "from datetime import timedelta"
   ]
  },
  {
   "cell_type": "code",
   "execution_count": 13,
   "metadata": {
    "collapsed": false
   },
   "outputs": [
    {
     "data": {
      "text/plain": [
       "datetime.datetime(2016, 9, 14, 0, 0)"
      ]
     },
     "execution_count": 13,
     "metadata": {},
     "output_type": "execute_result"
    }
   ],
   "source": [
    "start = datetime(2016,9,2)\n",
    "start + timedelta(12)"
   ]
  },
  {
   "cell_type": "markdown",
   "metadata": {},
   "source": [
    "## 字符串和datetime的相互转换"
   ]
  },
  {
   "cell_type": "code",
   "execution_count": 15,
   "metadata": {
    "collapsed": false
   },
   "outputs": [
    {
     "data": {
      "text/plain": [
       "'2016-01-03 00:00:00'"
      ]
     },
     "execution_count": 15,
     "metadata": {},
     "output_type": "execute_result"
    }
   ],
   "source": [
    "# str和strftime方法将datetime对象和pandas的Timestamp对象格式化为字符串\n",
    "stamp = datetime(2016,1,3)\n",
    "str(stamp)"
   ]
  },
  {
   "cell_type": "code",
   "execution_count": 17,
   "metadata": {
    "collapsed": false
   },
   "outputs": [
    {
     "data": {
      "text/plain": [
       "'2016-01-03'"
      ]
     },
     "execution_count": 17,
     "metadata": {},
     "output_type": "execute_result"
    }
   ],
   "source": [
    "stamp.strftime('%Y-%m-%d')"
   ]
  },
  {
   "cell_type": "code",
   "execution_count": 20,
   "metadata": {
    "collapsed": false
   },
   "outputs": [
    {
     "data": {
      "text/plain": [
       "datetime.datetime(2011, 3, 29, 0, 0)"
      ]
     },
     "execution_count": 20,
     "metadata": {},
     "output_type": "execute_result"
    }
   ],
   "source": [
    "# 将格式化字符编码转换为日期\n",
    "value = '2011-03-29'\n",
    "datetime.strptime(value,'%Y-%m-%d')"
   ]
  },
  {
   "cell_type": "code",
   "execution_count": 21,
   "metadata": {
    "collapsed": true
   },
   "outputs": [],
   "source": [
    "# 利用dateutil中的parser.parse处理常见日期格式的格式化字符编码\n",
    "from dateutil.parser import parse"
   ]
  },
  {
   "cell_type": "code",
   "execution_count": 22,
   "metadata": {
    "collapsed": false
   },
   "outputs": [
    {
     "data": {
      "text/plain": [
       "datetime.datetime(2011, 3, 29, 0, 0)"
      ]
     },
     "execution_count": 22,
     "metadata": {},
     "output_type": "execute_result"
    }
   ],
   "source": [
    "parse(value)"
   ]
  },
  {
   "cell_type": "code",
   "execution_count": 25,
   "metadata": {
    "collapsed": false
   },
   "outputs": [
    {
     "data": {
      "text/plain": [
       "datetime.datetime(1997, 1, 31, 22, 45)"
      ]
     },
     "execution_count": 25,
     "metadata": {},
     "output_type": "execute_result"
    }
   ],
   "source": [
    "parse('Jan 31, 1997 10:45 PM')"
   ]
  },
  {
   "cell_type": "code",
   "execution_count": 27,
   "metadata": {
    "collapsed": false
   },
   "outputs": [
    {
     "data": {
      "text/plain": [
       "datetime.datetime(2016, 12, 6, 0, 0)"
      ]
     },
     "execution_count": 27,
     "metadata": {},
     "output_type": "execute_result"
    }
   ],
   "source": [
    "# 处理日期在月份前面,dayfirst=True\n",
    "parse('6/12/2016',dayfirst=True)"
   ]
  },
  {
   "cell_type": "code",
   "execution_count": 41,
   "metadata": {
    "collapsed": false
   },
   "outputs": [
    {
     "data": {
      "text/plain": [
       "DatetimeIndex(['2016-07-06', '2015-09-09'], dtype='datetime64[ns]', freq=None)"
      ]
     },
     "execution_count": 41,
     "metadata": {},
     "output_type": "execute_result"
    }
   ],
   "source": [
    "# pandas的to_datetime方法处理成组日期\n",
    "datestrs = ['7/6/2016','9/9/2015']\n",
    "pd.to_datetime(datestrs)"
   ]
  },
  {
   "cell_type": "code",
   "execution_count": 44,
   "metadata": {
    "collapsed": false
   },
   "outputs": [
    {
     "data": {
      "text/plain": [
       "DatetimeIndex(['2016-07-06', '2015-09-09', 'NaT'], dtype='datetime64[ns]', freq=None)"
      ]
     },
     "execution_count": 44,
     "metadata": {},
     "output_type": "execute_result"
    }
   ],
   "source": [
    "# 处理缺失值(None,空字符串)\n",
    "idx = pd.to_datetime(datestrs + [None])\n",
    "idx"
   ]
  },
  {
   "cell_type": "code",
   "execution_count": 45,
   "metadata": {
    "collapsed": false
   },
   "outputs": [
    {
     "data": {
      "text/plain": [
       "array([False, False,  True], dtype=bool)"
      ]
     },
     "execution_count": 45,
     "metadata": {},
     "output_type": "execute_result"
    }
   ],
   "source": [
    "pd.isnull(idx)"
   ]
  },
  {
   "cell_type": "markdown",
   "metadata": {},
   "source": [
    "## 时间序列基础\n",
    "* pandas最基本的时间序列是以时间戳为索引的Series"
   ]
  },
  {
   "cell_type": "code",
   "execution_count": 53,
   "metadata": {
    "collapsed": false
   },
   "outputs": [
    {
     "name": "stdout",
     "output_type": "stream",
     "text": [
      "<class 'pandas.core.series.Series'>\n",
      "<class 'pandas.tseries.index.DatetimeIndex'>\n",
      "datetime64[ns]\n"
     ]
    },
    {
     "data": {
      "text/plain": [
       "2016-01-08    1.726573\n",
       "2016-06-08    0.683461\n",
       "2016-05-08    0.292300\n",
       "2016-04-08    0.068015\n",
       "2016-03-08    0.046052\n",
       "2016-02-08    0.262360\n",
       "dtype: float64"
      ]
     },
     "execution_count": 53,
     "metadata": {},
     "output_type": "execute_result"
    }
   ],
   "source": [
    "dates = [datetime(2016,1,8), datetime(2016,6,8), datetime(2016,5,8), datetime(2016,4,8), datetime(2016,3,8), datetime(2016,2,8)]\n",
    "ts = Series(np.random.randn(len(dates)),index=dates)\n",
    "print type(ts)\n",
    "print type(ts.index)\n",
    "print ts.index.dtype\n",
    "ts"
   ]
  },
  {
   "cell_type": "code",
   "execution_count": 51,
   "metadata": {
    "collapsed": false
   },
   "outputs": [
    {
     "data": {
      "text/plain": [
       "2016-01-08    2.380956\n",
       "2016-02-08         NaN\n",
       "2016-03-08   -0.591529\n",
       "2016-04-08         NaN\n",
       "2016-05-08   -2.330775\n",
       "2016-06-08         NaN\n",
       "dtype: float64"
      ]
     },
     "execution_count": 51,
     "metadata": {},
     "output_type": "execute_result"
    }
   ],
   "source": [
    "# 不同索引的时间序列之间的算术运算会自动按日期对其\n",
    "ts + ts[::2]"
   ]
  },
  {
   "cell_type": "markdown",
   "metadata": {},
   "source": [
    "## 索引、选取、子集构造"
   ]
  },
  {
   "cell_type": "code",
   "execution_count": 56,
   "metadata": {
    "collapsed": false
   },
   "outputs": [
    {
     "data": {
      "text/plain": [
       "Timestamp('2016-05-08 00:00:00')"
      ]
     },
     "execution_count": 56,
     "metadata": {},
     "output_type": "execute_result"
    }
   ],
   "source": [
    "# 索引\n",
    "stamp = ts.index[2]\n",
    "stamp"
   ]
  },
  {
   "cell_type": "code",
   "execution_count": 57,
   "metadata": {
    "collapsed": false
   },
   "outputs": [
    {
     "data": {
      "text/plain": [
       "0.29230009763720743"
      ]
     },
     "execution_count": 57,
     "metadata": {},
     "output_type": "execute_result"
    }
   ],
   "source": [
    "ts[stamp]"
   ]
  },
  {
   "cell_type": "code",
   "execution_count": 58,
   "metadata": {
    "collapsed": false
   },
   "outputs": [
    {
     "data": {
      "text/plain": [
       "2016-01-08    1.726573\n",
       "dtype: float64"
      ]
     },
     "execution_count": 58,
     "metadata": {},
     "output_type": "execute_result"
    }
   ],
   "source": [
    "ts['2016-01-08']"
   ]
  },
  {
   "cell_type": "code",
   "execution_count": 61,
   "metadata": {
    "collapsed": false
   },
   "outputs": [
    {
     "data": {
      "text/plain": [
       "2010-01-01   -0.661064\n",
       "2010-01-02   -0.542034\n",
       "2010-01-03   -0.148403\n",
       "2010-01-04   -1.556598\n",
       "2010-01-05    0.461211\n",
       "Freq: D, dtype: float64"
      ]
     },
     "execution_count": 61,
     "metadata": {},
     "output_type": "execute_result"
    }
   ],
   "source": [
    "# 对于较长的时间序列,传入\"年\"或\"年月\"即可数据切片\n",
    "longer_ts = Series(np.random.randn(1000),index=pd.date_range('1/1/2010',periods=1000))\n",
    "longer_ts.head()"
   ]
  },
  {
   "cell_type": "code",
   "execution_count": 63,
   "metadata": {
    "collapsed": false
   },
   "outputs": [
    {
     "data": {
      "text/plain": [
       "2011-01-01   -1.192233\n",
       "2011-01-02    0.598542\n",
       "2011-01-03   -0.130657\n",
       "2011-01-04    0.354745\n",
       "2011-01-05    0.615886\n",
       "Freq: D, dtype: float64"
      ]
     },
     "execution_count": 63,
     "metadata": {},
     "output_type": "execute_result"
    }
   ],
   "source": [
    "# \"年\"切片\n",
    "longer_ts['2011'].head()"
   ]
  },
  {
   "cell_type": "code",
   "execution_count": 64,
   "metadata": {
    "collapsed": false
   },
   "outputs": [
    {
     "data": {
      "text/plain": [
       "2011-03-01   -0.656364\n",
       "2011-03-02    0.071906\n",
       "2011-03-03   -0.562434\n",
       "2011-03-04    0.621281\n",
       "2011-03-05    1.707967\n",
       "2011-03-06   -1.033982\n",
       "2011-03-07   -0.374775\n",
       "2011-03-08   -0.903705\n",
       "2011-03-09   -0.174119\n",
       "2011-03-10    1.308651\n",
       "2011-03-11   -0.711709\n",
       "2011-03-12   -0.708516\n",
       "2011-03-13   -0.626936\n",
       "2011-03-14    0.392382\n",
       "2011-03-15    0.927369\n",
       "2011-03-16   -1.071181\n",
       "2011-03-17    0.810623\n",
       "2011-03-18   -1.616151\n",
       "2011-03-19    0.625646\n",
       "2011-03-20   -0.794965\n",
       "2011-03-21    0.768581\n",
       "2011-03-22    0.034570\n",
       "2011-03-23   -0.617377\n",
       "2011-03-24    2.074930\n",
       "2011-03-25    0.582247\n",
       "2011-03-26   -0.032518\n",
       "2011-03-27    3.139842\n",
       "2011-03-28   -1.109369\n",
       "2011-03-29   -1.530500\n",
       "2011-03-30   -0.350568\n",
       "2011-03-31   -1.320868\n",
       "Freq: D, dtype: float64"
      ]
     },
     "execution_count": 64,
     "metadata": {},
     "output_type": "execute_result"
    }
   ],
   "source": [
    "# \"年月\"切片\n",
    "longer_ts['2011-03']"
   ]
  },
  {
   "cell_type": "code",
   "execution_count": 66,
   "metadata": {
    "collapsed": false
   },
   "outputs": [
    {
     "data": {
      "text/plain": [
       "2011-03-01   -0.656364\n",
       "2011-03-02    0.071906\n",
       "2011-03-03   -0.562434\n",
       "2011-03-04    0.621281\n",
       "2011-03-05    1.707967\n",
       "2011-03-06   -1.033982\n",
       "2011-03-07   -0.374775\n",
       "2011-03-08   -0.903705\n",
       "2011-03-09   -0.174119\n",
       "2011-03-10    1.308651\n",
       "Freq: D, dtype: float64"
      ]
     },
     "execution_count": 66,
     "metadata": {},
     "output_type": "execute_result"
    }
   ],
   "source": [
    "longer_ts[datetime(2011,3,1):datetime(2011,3,10)]"
   ]
  },
  {
   "cell_type": "code",
   "execution_count": 69,
   "metadata": {
    "collapsed": false
   },
   "outputs": [
    {
     "data": {
      "text/plain": [
       "2016-04-08    0.068015\n",
       "2016-03-08    0.046052\n",
       "2016-02-08    0.262360\n",
       "dtype: float64"
      ]
     },
     "execution_count": 69,
     "metadata": {},
     "output_type": "execute_result"
    }
   ],
   "source": [
    "# 可以使用不存在于该时间序列中的时间戳对其进行切片\n",
    "ts['2016-01-11':'2016-04-11']"
   ]
  },
  {
   "cell_type": "code",
   "execution_count": 70,
   "metadata": {
    "collapsed": false
   },
   "outputs": [
    {
     "data": {
      "text/html": [
       "<div>\n",
       "<table border=\"1\" class=\"dataframe\">\n",
       "  <thead>\n",
       "    <tr style=\"text-align: right;\">\n",
       "      <th></th>\n",
       "      <th>A</th>\n",
       "      <th>B</th>\n",
       "      <th>C</th>\n",
       "      <th>D</th>\n",
       "    </tr>\n",
       "  </thead>\n",
       "  <tbody>\n",
       "    <tr>\n",
       "      <th>2016-03-02</th>\n",
       "      <td>-1.160695</td>\n",
       "      <td>1.305283</td>\n",
       "      <td>-1.232372</td>\n",
       "      <td>0.679614</td>\n",
       "    </tr>\n",
       "    <tr>\n",
       "      <th>2016-03-09</th>\n",
       "      <td>-1.176652</td>\n",
       "      <td>0.948060</td>\n",
       "      <td>0.516697</td>\n",
       "      <td>-1.875135</td>\n",
       "    </tr>\n",
       "    <tr>\n",
       "      <th>2016-03-16</th>\n",
       "      <td>-0.968665</td>\n",
       "      <td>0.536208</td>\n",
       "      <td>-0.810429</td>\n",
       "      <td>-0.901856</td>\n",
       "    </tr>\n",
       "    <tr>\n",
       "      <th>2016-03-23</th>\n",
       "      <td>0.095245</td>\n",
       "      <td>1.622800</td>\n",
       "      <td>-0.109334</td>\n",
       "      <td>-1.096380</td>\n",
       "    </tr>\n",
       "    <tr>\n",
       "      <th>2016-03-30</th>\n",
       "      <td>0.601759</td>\n",
       "      <td>-0.841323</td>\n",
       "      <td>-0.269787</td>\n",
       "      <td>-0.768711</td>\n",
       "    </tr>\n",
       "  </tbody>\n",
       "</table>\n",
       "</div>"
      ],
      "text/plain": [
       "                   A         B         C         D\n",
       "2016-03-02 -1.160695  1.305283 -1.232372  0.679614\n",
       "2016-03-09 -1.176652  0.948060  0.516697 -1.875135\n",
       "2016-03-16 -0.968665  0.536208 -0.810429 -0.901856\n",
       "2016-03-23  0.095245  1.622800 -0.109334 -1.096380\n",
       "2016-03-30  0.601759 -0.841323 -0.269787 -0.768711"
      ]
     },
     "execution_count": 70,
     "metadata": {},
     "output_type": "execute_result"
    }
   ],
   "source": [
    "# 对DataFrame进行索引\n",
    "dates = pd.date_range('2016/1/1',periods=100,freq='W-WED')\n",
    "long_df = DataFrame(np.random.randn(100,4),index=dates,columns=list('ABCD'))\n",
    "long_df.ix['2016/3']"
   ]
  },
  {
   "cell_type": "markdown",
   "metadata": {},
   "source": [
    "## 带有重复索引的时间序列\n",
    "* 某些应用场景中,多个观测数据落在同一个时间点上"
   ]
  },
  {
   "cell_type": "code",
   "execution_count": 77,
   "metadata": {
    "collapsed": false
   },
   "outputs": [
    {
     "data": {
      "text/plain": [
       "2016-01-01    0\n",
       "2016-01-02    1\n",
       "2016-01-03    2\n",
       "2016-01-02    3\n",
       "2016-01-01    4\n",
       "2016-10-01    5\n",
       "dtype: int32"
      ]
     },
     "execution_count": 77,
     "metadata": {},
     "output_type": "execute_result"
    }
   ],
   "source": [
    "dates = pd.DatetimeIndex(['1/1/2016','1/2/2016','1/3/2016','1/2/2016','1/1/2016','10/1/2016'])\n",
    "dup_ts = Series(np.arange(6),index=dates)\n",
    "dup_ts"
   ]
  },
  {
   "cell_type": "code",
   "execution_count": 78,
   "metadata": {
    "collapsed": false
   },
   "outputs": [
    {
     "data": {
      "text/plain": [
       "False"
      ]
     },
     "execution_count": 78,
     "metadata": {},
     "output_type": "execute_result"
    }
   ],
   "source": [
    "# 判断index是否唯一\n",
    "dup_ts.index.is_unique"
   ]
  },
  {
   "cell_type": "code",
   "execution_count": 81,
   "metadata": {
    "collapsed": false
   },
   "outputs": [
    {
     "name": "stdout",
     "output_type": "stream",
     "text": [
      "2016-01-01    0\n",
      "2016-01-01    4\n",
      "dtype: int32 \n",
      "\n",
      "2016-10-01    5\n",
      "dtype: int32\n"
     ]
    }
   ],
   "source": [
    "# 对时间序列进行索引,产生标量值(时间点唯一)或切片(时间点重复)\n",
    "print dup_ts['1/1/2016'],'\\n'\n",
    "print dup_ts['10/1/2016']"
   ]
  },
  {
   "cell_type": "code",
   "execution_count": 84,
   "metadata": {
    "collapsed": false
   },
   "outputs": [
    {
     "data": {
      "text/plain": [
       "2016-01-01    2\n",
       "2016-01-02    2\n",
       "2016-01-03    2\n",
       "2016-10-01    5\n",
       "dtype: int32"
      ]
     },
     "execution_count": 84,
     "metadata": {},
     "output_type": "execute_result"
    }
   ],
   "source": [
    "# 使用groupby对非唯一时间戳的数据进行聚合\n",
    "grouped = dup_ts.groupby(level=0)\n",
    "grouped.mean()"
   ]
  },
  {
   "cell_type": "markdown",
   "metadata": {},
   "source": [
    "## 日期的范围、频率以及移动\n",
    "* 时间序列一般是不规则的,没有固定频率\n",
    "* 但是通常需要以某种固定频率进行分析\n",
    "* pandas有相关工具"
   ]
  },
  {
   "cell_type": "code",
   "execution_count": 88,
   "metadata": {
    "collapsed": false
   },
   "outputs": [
    {
     "data": {
      "text/plain": [
       "2016-01-08    1.726573\n",
       "2016-01-09         NaN\n",
       "2016-01-10         NaN\n",
       "2016-01-11         NaN\n",
       "2016-01-12         NaN\n",
       "Freq: D, dtype: float64"
      ]
     },
     "execution_count": 88,
     "metadata": {},
     "output_type": "execute_result"
    }
   ],
   "source": [
    "# resample将时间序列转换为有固定频率的时间序列\n",
    "\n",
    "# 固定频率(每日)\n",
    "ts.resample('D').mean().head()"
   ]
  },
  {
   "cell_type": "markdown",
   "metadata": {},
   "source": [
    "### 生成日期范围"
   ]
  },
  {
   "cell_type": "code",
   "execution_count": 92,
   "metadata": {
    "collapsed": false
   },
   "outputs": [
    {
     "data": {
      "text/plain": [
       "DatetimeIndex(['2016-04-01', '2016-04-02', '2016-04-03', '2016-04-04',\n",
       "               '2016-04-05', '2016-04-06', '2016-04-07', '2016-04-08',\n",
       "               '2016-04-09', '2016-04-10'],\n",
       "              dtype='datetime64[ns]', freq='D')"
      ]
     },
     "execution_count": 92,
     "metadata": {},
     "output_type": "execute_result"
    }
   ],
   "source": [
    "# pd.date_range生成指定长度的DatetimeIndex\n",
    "# 默认保留起始和结束时间戳\n",
    "index = pd.date_range('4/1/2016','4/10/2016')\n",
    "index"
   ]
  },
  {
   "cell_type": "code",
   "execution_count": 94,
   "metadata": {
    "collapsed": false
   },
   "outputs": [
    {
     "data": {
      "text/plain": [
       "DatetimeIndex(['2016-09-22', '2016-09-23', '2016-09-24', '2016-09-25',\n",
       "               '2016-09-26', '2016-09-27', '2016-09-28', '2016-09-29',\n",
       "               '2016-09-30', '2016-10-01'],\n",
       "              dtype='datetime64[ns]', freq='D')"
      ]
     },
     "execution_count": 94,
     "metadata": {},
     "output_type": "execute_result"
    }
   ],
   "source": [
    "# pd.date_range默认产生按天计算的时间点\n",
    "# 如果只给起始或结束时间,就要传入periods\n",
    "pd.date_range(end='2016/10/1',periods=10)"
   ]
  },
  {
   "cell_type": "code",
   "execution_count": 95,
   "metadata": {
    "collapsed": false
   },
   "outputs": [
    {
     "data": {
      "text/plain": [
       "DatetimeIndex(['2016-01-29', '2016-02-29', '2016-03-31', '2016-04-29',\n",
       "               '2016-05-31', '2016-06-30', '2016-07-29', '2016-08-31',\n",
       "               '2016-09-30'],\n",
       "              dtype='datetime64[ns]', freq='BM')"
      ]
     },
     "execution_count": 95,
     "metadata": {},
     "output_type": "execute_result"
    }
   ],
   "source": [
    "# 生成一个由每个月最后一个工作日组成的日期索引,传入BM(business end of month)\n",
    "pd.date_range('2016/1/1','2016/10/1',freq='BM')"
   ]
  },
  {
   "cell_type": "code",
   "execution_count": 98,
   "metadata": {
    "collapsed": false
   },
   "outputs": [
    {
     "data": {
      "text/plain": [
       "DatetimeIndex(['2016-05-02', '2016-05-03', '2016-05-04', '2016-05-05',\n",
       "               '2016-05-06'],\n",
       "              dtype='datetime64[ns]', freq='D')"
      ]
     },
     "execution_count": 98,
     "metadata": {},
     "output_type": "execute_result"
    }
   ],
   "source": [
    "# 产生一组被规范化(normalize)到午夜的时间戳\n",
    "pd.date_range('5/2/2016 12:12:31',periods=5,normalize=True)"
   ]
  },
  {
   "cell_type": "markdown",
   "metadata": {},
   "source": [
    "### 频率和日期偏移量\n",
    "* 由基础频(base frequency)率和一个乘数组成\n",
    "* 基础频率,如'M','H'\n",
    "* 每个基础频率都有一个被称为日期偏移量(date offset)的对象与之对应"
   ]
  },
  {
   "cell_type": "code",
   "execution_count": 99,
   "metadata": {
    "collapsed": true
   },
   "outputs": [],
   "source": [
    "from pandas.tseries.offsets import Hour, Minute"
   ]
  },
  {
   "cell_type": "code",
   "execution_count": 101,
   "metadata": {
    "collapsed": false
   },
   "outputs": [
    {
     "data": {
      "text/plain": [
       "<Hour>"
      ]
     },
     "execution_count": 101,
     "metadata": {},
     "output_type": "execute_result"
    }
   ],
   "source": [
    "hour = Hour()\n",
    "hour"
   ]
  },
  {
   "cell_type": "code",
   "execution_count": 102,
   "metadata": {
    "collapsed": false
   },
   "outputs": [
    {
     "data": {
      "text/plain": [
       "<4 * Hours>"
      ]
     },
     "execution_count": 102,
     "metadata": {},
     "output_type": "execute_result"
    }
   ],
   "source": [
    "# 传入整数定义偏移量的倍数\n",
    "four_hours = Hour(4)\n",
    "four_hours"
   ]
  },
  {
   "cell_type": "code",
   "execution_count": 103,
   "metadata": {
    "collapsed": false
   },
   "outputs": [
    {
     "data": {
      "text/plain": [
       "DatetimeIndex(['2016-01-01 00:00:00', '2016-01-01 02:00:00',\n",
       "               '2016-01-01 04:00:00', '2016-01-01 06:00:00',\n",
       "               '2016-01-01 08:00:00', '2016-01-01 10:00:00',\n",
       "               '2016-01-01 12:00:00', '2016-01-01 14:00:00',\n",
       "               '2016-01-01 16:00:00', '2016-01-01 18:00:00'],\n",
       "              dtype='datetime64[ns]', freq='2H')"
      ]
     },
     "execution_count": 103,
     "metadata": {},
     "output_type": "execute_result"
    }
   ],
   "source": [
    "# 使用字符串别名产生时间序列\n",
    "pd.date_range('1/1/2016',periods=10,freq='2H')"
   ]
  },
  {
   "cell_type": "code",
   "execution_count": 104,
   "metadata": {
    "collapsed": false
   },
   "outputs": [
    {
     "data": {
      "text/plain": [
       "<130 * Minutes>"
      ]
     },
     "execution_count": 104,
     "metadata": {},
     "output_type": "execute_result"
    }
   ],
   "source": [
    "# 大部分偏移量对象都可以通过加法进行连接\n",
    "Hour(2) + Minute(10)"
   ]
  },
  {
   "cell_type": "code",
   "execution_count": 105,
   "metadata": {
    "collapsed": false
   },
   "outputs": [
    {
     "data": {
      "text/plain": [
       "DatetimeIndex(['2016-01-01 00:00:00', '2016-01-01 02:30:00',\n",
       "               '2016-01-01 05:00:00', '2016-01-01 07:30:00',\n",
       "               '2016-01-01 10:00:00', '2016-01-01 12:30:00',\n",
       "               '2016-01-01 15:00:00', '2016-01-01 17:30:00',\n",
       "               '2016-01-01 20:00:00', '2016-01-01 22:30:00'],\n",
       "              dtype='datetime64[ns]', freq='150T')"
      ]
     },
     "execution_count": 105,
     "metadata": {},
     "output_type": "execute_result"
    }
   ],
   "source": [
    "pd.date_range('1/1/2016',periods=10,freq='2h30min')"
   ]
  },
  {
   "cell_type": "code",
   "execution_count": 108,
   "metadata": {
    "collapsed": false
   },
   "outputs": [
    {
     "data": {
      "text/plain": [
       "[Timestamp('2016-01-15 00:00:00', offset='WOM-3FRI'),\n",
       " Timestamp('2016-02-19 00:00:00', offset='WOM-3FRI'),\n",
       " Timestamp('2016-03-18 00:00:00', offset='WOM-3FRI'),\n",
       " Timestamp('2016-04-15 00:00:00', offset='WOM-3FRI'),\n",
       " Timestamp('2016-05-20 00:00:00', offset='WOM-3FRI'),\n",
       " Timestamp('2016-06-17 00:00:00', offset='WOM-3FRI'),\n",
       " Timestamp('2016-07-15 00:00:00', offset='WOM-3FRI'),\n",
       " Timestamp('2016-08-19 00:00:00', offset='WOM-3FRI'),\n",
       " Timestamp('2016-09-16 00:00:00', offset='WOM-3FRI'),\n",
       " Timestamp('2016-10-21 00:00:00', offset='WOM-3FRI')]"
      ]
     },
     "execution_count": 108,
     "metadata": {},
     "output_type": "execute_result"
    }
   ],
   "source": [
    "# 每月的第三个星期五 WOM(week of month)\n",
    "rng = pd.date_range('2016',freq='WOM-3FRI',periods=10)\n",
    "list(rng)"
   ]
  },
  {
   "cell_type": "markdown",
   "metadata": {},
   "source": [
    "### 移动(超前和滞后)数据\n",
    "* 沿着时间轴将数据前移或后移,保持索引不变"
   ]
  },
  {
   "cell_type": "code",
   "execution_count": 109,
   "metadata": {
    "collapsed": false
   },
   "outputs": [
    {
     "data": {
      "text/plain": [
       "2016-01-31    0.883933\n",
       "2016-02-29    0.265755\n",
       "2016-03-31   -1.861968\n",
       "2016-04-30   -0.336218\n",
       "Freq: M, dtype: float64"
      ]
     },
     "execution_count": 109,
     "metadata": {},
     "output_type": "execute_result"
    }
   ],
   "source": [
    "ts = Series(np.random.randn(4),index=pd.date_range('1/1/2016',periods=4,freq='M'))\n",
    "ts"
   ]
  },
  {
   "cell_type": "code",
   "execution_count": 110,
   "metadata": {
    "collapsed": false
   },
   "outputs": [
    {
     "data": {
      "text/plain": [
       "2016-01-31         NaN\n",
       "2016-02-29         NaN\n",
       "2016-03-31    0.883933\n",
       "2016-04-30    0.265755\n",
       "Freq: M, dtype: float64"
      ]
     },
     "execution_count": 110,
     "metadata": {},
     "output_type": "execute_result"
    }
   ],
   "source": [
    "# 前移和后移\n",
    "ts.shift(2)"
   ]
  },
  {
   "cell_type": "code",
   "execution_count": 111,
   "metadata": {
    "collapsed": false
   },
   "outputs": [
    {
     "data": {
      "text/plain": [
       "2016-01-31   -1.861968\n",
       "2016-02-29   -0.336218\n",
       "2016-03-31         NaN\n",
       "2016-04-30         NaN\n",
       "Freq: M, dtype: float64"
      ]
     },
     "execution_count": 111,
     "metadata": {},
     "output_type": "execute_result"
    }
   ],
   "source": [
    "ts.shift(-2)"
   ]
  },
  {
   "cell_type": "code",
   "execution_count": 112,
   "metadata": {
    "collapsed": false
   },
   "outputs": [
    {
     "data": {
      "text/plain": [
       "2016-01-31         NaN\n",
       "2016-02-29   -0.699349\n",
       "2016-03-31   -8.006329\n",
       "2016-04-30   -0.819429\n",
       "Freq: M, dtype: float64"
      ]
     },
     "execution_count": 112,
     "metadata": {},
     "output_type": "execute_result"
    }
   ],
   "source": [
    "# shift通常用于计算一个时间序列或多个时间序列中的百分比变化\n",
    "ts / ts.shift(1) - 1"
   ]
  },
  {
   "cell_type": "code",
   "execution_count": null,
   "metadata": {
    "collapsed": true
   },
   "outputs": [],
   "source": []
  }
 ],
 "metadata": {
  "kernelspec": {
   "display_name": "Python [Root]",
   "language": "python",
   "name": "Python [Root]"
  },
  "language_info": {
   "codemirror_mode": {
    "name": "ipython",
    "version": 2
   },
   "file_extension": ".py",
   "mimetype": "text/x-python",
   "name": "python",
   "nbconvert_exporter": "python",
   "pygments_lexer": "ipython2",
   "version": "2.7.12"
  }
 },
 "nbformat": 4,
 "nbformat_minor": 0
}
